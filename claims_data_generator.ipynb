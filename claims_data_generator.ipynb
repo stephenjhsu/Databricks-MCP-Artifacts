{
 "cells": [
  {
   "cell_type": "markdown",
   "metadata": {
    "application/vnd.databricks.v1+cell": {
     "cellMetadata": {
      "byteLimit": 2048000,
      "rowLimit": 10000
     },
     "inputWidgets": {},
     "nuid": "519d09d4-194e-4adb-88d1-0f5edc4f4967",
     "showTitle": false,
     "tableResultSettingsMap": {},
     "title": ""
    }
   },
   "source": [
    "# Claims Underwriting Data Generator\n",
    "## Finance Analytics for Chief Underwriting Officer\n",
    "\n",
    "This notebook generates realistic insurance data for:\n",
    "- Claims risk assessment\n",
    "- Underwriting optimization\n",
    "- Financial performance analysis"
   ]
  },
  {
   "cell_type": "code",
   "execution_count": 0,
   "metadata": {
    "application/vnd.databricks.v1+cell": {
     "cellMetadata": {
      "byteLimit": 2048000,
      "rowLimit": 10000
     },
     "inputWidgets": {},
     "nuid": "e21ec14e-ae41-4c0e-884f-c555f99eee5c",
     "showTitle": false,
     "tableResultSettingsMap": {},
     "title": ""
    }
   },
   "outputs": [
    {
     "output_type": "stream",
     "name": "stdout",
     "output_type": "stream",
     "text": [
      "Collecting faker\n  Downloading faker-37.4.2-py3-none-any.whl (1.9 MB)\n     ━━━━━━━━━━━━━━━━━━━━━━━━━━━━━━━━━━━━━━━━ 1.9/1.9 MB 8.3 MB/s eta 0:00:00\nCollecting tzdata\n  Downloading tzdata-2025.2-py2.py3-none-any.whl (347 kB)\n     ━━━━━━━━━━━━━━━━━━━━━━━━━━━━━━━━━━━━━━ 347.8/347.8 kB 13.5 MB/s eta 0:00:00\nInstalling collected packages: tzdata, faker\nSuccessfully installed faker-37.4.2 tzdata-2025.2\n\u001B[43mNote: you may need to restart the kernel using %restart_python or dbutils.library.restartPython() to use updated packages.\u001B[0m\n"
     ]
    }
   ],
   "source": [
    "%pip install faker"
   ]
  },
  {
   "cell_type": "code",
   "execution_count": 0,
   "metadata": {
    "application/vnd.databricks.v1+cell": {
     "cellMetadata": {
      "byteLimit": 2048000,
      "rowLimit": 10000
     },
     "inputWidgets": {},
     "nuid": "51e77503-4d51-4597-8073-344c8e8a6a38",
     "showTitle": false,
     "tableResultSettingsMap": {},
     "title": ""
    }
   },
   "outputs": [],
   "source": [
    "import pandas as pd\n",
    "import numpy as np\n",
    "from faker import Faker\n",
    "from datetime import datetime, timedelta\n",
    "import random\n",
    "import uuid\n",
    "\n",
    "# Initialize Faker\n",
    "fake = Faker()\n",
    "fake.seed_instance(42)  # For reproducible results\n",
    "np.random.seed(42)\n",
    "random.seed(42)\n",
    "\n",
    "# Configuration\n",
    "NUM_CUSTOMERS = 10000\n",
    "NUM_POLICIES = 25000\n",
    "NUM_CLAIMS = 50000"
   ]
  },
  {
   "cell_type": "markdown",
   "metadata": {
    "application/vnd.databricks.v1+cell": {
     "cellMetadata": {
      "byteLimit": 2048000,
      "rowLimit": 10000
     },
     "inputWidgets": {},
     "nuid": "8a0fc295-7f1e-40c8-b434-a19e87b1e1ee",
     "showTitle": false,
     "tableResultSettingsMap": {},
     "title": ""
    }
   },
   "source": [
    "## Generate Customers Data"
   ]
  },
  {
   "cell_type": "code",
   "execution_count": 0,
   "metadata": {
    "application/vnd.databricks.v1+cell": {
     "cellMetadata": {
      "byteLimit": 2048000,
      "rowLimit": 10000
     },
     "inputWidgets": {},
     "nuid": "2e05e0e0-2e76-49b0-a620-4a94003c7566",
     "showTitle": false,
     "tableResultSettingsMap": {},
     "title": ""
    }
   },
   "outputs": [],
   "source": [
    "def generate_customers():\n",
    "    \"\"\"Generate customers table with realistic data distributions\"\"\"\n",
    "    print(\"Generating customers data...\")\n",
    "    \n",
    "    customers = []\n",
    "    \n",
    "    for i in range(NUM_CUSTOMERS):\n",
    "        customer_id = f\"CUST_{str(i+1).zfill(6)}\"\n",
    "        \n",
    "        # Business logic for customer attributes\n",
    "        customer_type = np.random.choice(['individual', 'business'], p=[0.85, 0.15])\n",
    "        \n",
    "        if customer_type == 'individual':\n",
    "            age = np.random.normal(45, 15)\n",
    "            age = max(18, min(85, int(age)))  # Clamp between 18-85\n",
    "            annual_income = np.random.lognormal(10.5, 0.5)  # Realistic income distribution\n",
    "            employment_status = np.random.choice(\n",
    "                ['employed', 'self_employed', 'retired', 'unemployed'],\n",
    "                p=[0.65, 0.15, 0.15, 0.05]\n",
    "            )\n",
    "            marital_status = np.random.choice(\n",
    "                ['single', 'married', 'divorced', 'widowed'],\n",
    "                p=[0.3, 0.5, 0.15, 0.05]\n",
    "            )\n",
    "        else:  # business\n",
    "            age = None  # Business entities don't have age\n",
    "            annual_income = np.random.lognormal(12, 0.8)  # Higher business revenues\n",
    "            employment_status = 'business_entity'\n",
    "            marital_status = None\n",
    "        \n",
    "        # Credit score correlation with income and age\n",
    "        if customer_type == 'individual':\n",
    "            base_credit = 650 + (annual_income / 100000) * 50 + (age - 25) * 2\n",
    "            credit_score = int(np.random.normal(base_credit, 80))\n",
    "            credit_score = max(300, min(850, credit_score))\n",
    "        else:\n",
    "            credit_score = int(np.random.normal(700, 60))  # Business credit scores\n",
    "            credit_score = max(400, min(850, credit_score))\n",
    "        \n",
    "        # Years with company (loyalty correlation)\n",
    "        years_with_company = np.random.exponential(3.5)\n",
    "        years_with_company = min(25, round(years_with_company, 1))\n",
    "        \n",
    "        # Geographic risk zone\n",
    "        geographic_risk_zone = np.random.choice(\n",
    "            ['low', 'medium', 'high'],\n",
    "            p=[0.4, 0.45, 0.15]\n",
    "        )\n",
    "        \n",
    "        # Prior claims count (correlated with risk zone)\n",
    "        risk_multiplier = {'low': 0.5, 'medium': 1.0, 'high': 2.0}[geographic_risk_zone]\n",
    "        prior_claims_count = np.random.poisson(1.2 * risk_multiplier)\n",
    "        prior_claims_count = min(15, prior_claims_count)\n",
    "        \n",
    "        # Customer loyalty tier (based on years and income)\n",
    "        if years_with_company < 1:\n",
    "            loyalty_tier = 'bronze'\n",
    "        elif years_with_company < 3:\n",
    "            loyalty_tier = 'silver'\n",
    "        elif years_with_company < 7 or annual_income > 75000:\n",
    "            loyalty_tier = 'gold'\n",
    "        else:\n",
    "            loyalty_tier = 'platinum'\n",
    "        \n",
    "        created_date = fake.date_time_between(\n",
    "            start_date='-10y', \n",
    "            end_date=datetime.now() - timedelta(days=30)\n",
    "        )\n",
    "        \n",
    "        customers.append({\n",
    "            'customer_id': customer_id,\n",
    "            'customer_type': customer_type,\n",
    "            'age': age,\n",
    "            'credit_score': credit_score,\n",
    "            'years_with_company': years_with_company,\n",
    "            'annual_income': round(annual_income, 2),\n",
    "            'employment_status': employment_status,\n",
    "            'marital_status': marital_status,\n",
    "            'geographic_risk_zone': geographic_risk_zone,\n",
    "            'prior_claims_count': prior_claims_count,\n",
    "            'customer_loyalty_tier': loyalty_tier,\n",
    "            'created_date': created_date\n",
    "        })\n",
    "    \n",
    "    return pd.DataFrame(customers)"
   ]
  },
  {
   "cell_type": "markdown",
   "metadata": {
    "application/vnd.databricks.v1+cell": {
     "cellMetadata": {
      "byteLimit": 2048000,
      "rowLimit": 10000
     },
     "inputWidgets": {},
     "nuid": "96e399a6-6489-4bff-b50a-0f38110be166",
     "showTitle": false,
     "tableResultSettingsMap": {},
     "title": ""
    }
   },
   "source": [
    "## Generate Policies Data"
   ]
  },
  {
   "cell_type": "code",
   "execution_count": 0,
   "metadata": {
    "application/vnd.databricks.v1+cell": {
     "cellMetadata": {
      "byteLimit": 2048000,
      "rowLimit": 10000
     },
     "inputWidgets": {},
     "nuid": "c2fb1517-24c1-415d-967f-b952f3e6c6d3",
     "showTitle": false,
     "tableResultSettingsMap": {},
     "title": ""
    }
   },
   "outputs": [],
   "source": [
    "def generate_policies(customers_df):\n",
    "    \"\"\"Generate policies table with proper foreign key relationships\"\"\"\n",
    "    print(\"Generating policies data...\")\n",
    "    \n",
    "    policies = []\n",
    "    \n",
    "    # Create policy distribution - some customers have multiple policies\n",
    "    customer_policy_counts = np.random.choice([1, 2, 3, 4], size=len(customers_df), p=[0.4, 0.3, 0.2, 0.1])\n",
    "    \n",
    "    policy_counter = 1\n",
    "    \n",
    "    for idx, row in customers_df.iterrows():\n",
    "        customer_id = row['customer_id']\n",
    "        num_policies = customer_policy_counts[idx]\n",
    "        \n",
    "        for policy_num in range(num_policies):\n",
    "            if policy_counter > NUM_POLICIES:\n",
    "                break\n",
    "                \n",
    "            policy_id = f\"POL_{str(policy_counter).zfill(7)}\"\n",
    "            \n",
    "            # Policy type distribution\n",
    "            if row['customer_type'] == 'business':\n",
    "                policy_type = np.random.choice(\n",
    "                    ['commercial', 'auto', 'liability'],\n",
    "                    p=[0.5, 0.3, 0.2]\n",
    "                )\n",
    "            else:\n",
    "                policy_type = np.random.choice(\n",
    "                    ['auto', 'home', 'life', 'health'],\n",
    "                    p=[0.4, 0.3, 0.2, 0.1]\n",
    "                )\n",
    "            \n",
    "            # Coverage amount based on policy type and customer income\n",
    "            coverage_multipliers = {\n",
    "                'auto': (15000, 100000),\n",
    "                'home': (100000, 1000000),\n",
    "                'life': (50000, 500000),\n",
    "                'health': (50000, 250000),\n",
    "                'commercial': (100000, 5000000),\n",
    "                'liability': (500000, 10000000)\n",
    "            }\n",
    "            \n",
    "            min_cov, max_cov = coverage_multipliers[policy_type]\n",
    "            income_factor = min(2.0, row['annual_income'] / 50000)\n",
    "            coverage_amount = np.random.uniform(min_cov, max_cov * income_factor)\n",
    "            \n",
    "            # Deductible (inverse relationship with coverage)\n",
    "            deductible_options = [500, 1000, 2500, 5000, 10000]\n",
    "            # Higher coverage tends to have higher deductibles\n",
    "            deductible_weights = [0.1, 0.2, 0.3, 0.3, 0.1] if coverage_amount > 500000 else [0.4, 0.3, 0.2, 0.08, 0.02]\n",
    "            deductible = np.random.choice(deductible_options, p=deductible_weights)\n",
    "            \n",
    "            # Premium calculation (simplified but realistic)\n",
    "            base_premium = coverage_amount * 0.005  # 0.5% of coverage\n",
    "            risk_multipliers = {'low': 0.8, 'medium': 1.0, 'high': 1.4}\n",
    "            risk_multiplier = risk_multipliers[row['geographic_risk_zone']]\n",
    "            \n",
    "            # Credit score impact\n",
    "            credit_multiplier = max(0.7, min(1.3, (850 - row['credit_score']) / 400))\n",
    "            \n",
    "            premium_amount = base_premium * risk_multiplier * credit_multiplier\n",
    "            premium_amount = round(premium_amount, 2)\n",
    "            \n",
    "            # Policy dates\n",
    "            policy_start_date = fake.date_between(\n",
    "                start_date=row['created_date'].date(),\n",
    "                end_date=datetime.now().date()\n",
    "            )\n",
    "            policy_end_date = policy_start_date + timedelta(days=365)\n",
    "            \n",
    "            # Policy status\n",
    "            if policy_end_date < datetime.now().date():\n",
    "                policy_status = np.random.choice(['expired', 'active'], p=[0.7, 0.3])\n",
    "            else:\n",
    "                policy_status = np.random.choice(['active', 'cancelled'], p=[0.9, 0.1])\n",
    "            \n",
    "            # Risk tier based on multiple factors\n",
    "            risk_score = (\n",
    "                (row['prior_claims_count'] * 0.3) +\n",
    "                ({'low': 1, 'medium': 2, 'high': 3}[row['geographic_risk_zone']] * 0.4) +\n",
    "                ((850 - row['credit_score']) / 200 * 0.3)\n",
    "            )\n",
    "            \n",
    "            if risk_score < 1.5:\n",
    "                risk_tier = 'low'\n",
    "            elif risk_score < 2.5:\n",
    "                risk_tier = 'medium'\n",
    "            else:\n",
    "                risk_tier = 'high'\n",
    "            \n",
    "            agent_id = f\"AGT_{random.randint(1, 50):03d}\"\n",
    "            \n",
    "            policies.append({\n",
    "                'policy_id': policy_id,\n",
    "                'customer_id': customer_id,\n",
    "                'policy_type': policy_type,\n",
    "                'coverage_amount': round(coverage_amount, 2),\n",
    "                'deductible': deductible,\n",
    "                'premium_amount': premium_amount,\n",
    "                'policy_start_date': policy_start_date,\n",
    "                'policy_end_date': policy_end_date,\n",
    "                'policy_status': policy_status,\n",
    "                'risk_tier': risk_tier,\n",
    "                'agent_id': agent_id,\n",
    "                'created_date': policy_start_date\n",
    "            })\n",
    "            \n",
    "            policy_counter += 1\n",
    "            \n",
    "        if policy_counter > NUM_POLICIES:\n",
    "            break\n",
    "    \n",
    "    return pd.DataFrame(policies)"
   ]
  },
  {
   "cell_type": "markdown",
   "metadata": {
    "application/vnd.databricks.v1+cell": {
     "cellMetadata": {
      "byteLimit": 2048000,
      "rowLimit": 10000
     },
     "inputWidgets": {},
     "nuid": "c3e50d57-98a5-409c-b61d-c41ddc288c7b",
     "showTitle": false,
     "tableResultSettingsMap": {},
     "title": ""
    }
   },
   "source": [
    "## Generate Claims Data"
   ]
  },
  {
   "cell_type": "code",
   "execution_count": 0,
   "metadata": {
    "application/vnd.databricks.v1+cell": {
     "cellMetadata": {
      "byteLimit": 2048000,
      "rowLimit": 10000
     },
     "inputWidgets": {},
     "nuid": "c5fc236a-08e9-4e35-9730-0c51f4569ed2",
     "showTitle": false,
     "tableResultSettingsMap": {},
     "title": ""
    }
   },
   "outputs": [],
   "source": [
    "def generate_claims(policies_df, customers_df):\n",
    "    \"\"\"Generate claims table with realistic claim patterns\"\"\"\n",
    "    print(\"Generating claims data...\")\n",
    "    \n",
    "    claims = []\n",
    "    \n",
    "    # Create claims distribution - not all policies have claims\n",
    "    policies_with_claims = policies_df.sample(n=min(NUM_CLAIMS // 2, len(policies_df)))\n",
    "    \n",
    "    claim_counter = 1\n",
    "    \n",
    "    for idx, policy_row in policies_with_claims.iterrows():\n",
    "        # Some policies have multiple claims\n",
    "        num_claims = np.random.choice([1, 2, 3], p=[0.7, 0.25, 0.05])\n",
    "        \n",
    "        # Get customer data for this policy\n",
    "        customer_data = customers_df[customers_df['customer_id'] == policy_row['customer_id']].iloc[0]\n",
    "        \n",
    "        for claim_num in range(num_claims):\n",
    "            if claim_counter > NUM_CLAIMS:\n",
    "                break\n",
    "                \n",
    "            claim_id = f\"CLM_{str(claim_counter).zfill(8)}\"\n",
    "            \n",
    "            # Claim type based on policy type\n",
    "            claim_type_mapping = {\n",
    "                'auto': ['collision', 'theft', 'liability'],\n",
    "                'home': ['fire', 'theft', 'flood', 'liability'],\n",
    "                'life': ['death_benefit'],\n",
    "                'health': ['medical', 'emergency'],\n",
    "                'commercial': ['liability', 'fire', 'theft'],\n",
    "                'liability': ['liability']\n",
    "            }\n",
    "            \n",
    "            available_claim_types = claim_type_mapping.get(policy_row['policy_type'], ['other'])\n",
    "            claim_type = np.random.choice(available_claim_types)\n",
    "            \n",
    "            # Claim date within policy period\n",
    "            claim_date_filed = fake.date_between(\n",
    "                start_date=policy_row['policy_start_date'],\n",
    "                end_date=min(policy_row['policy_end_date'], datetime.now().date())\n",
    "            )\n",
    "            \n",
    "            # Incident date before claim date\n",
    "            incident_date = claim_date_filed - timedelta(days=random.randint(0, 30))\n",
    "            \n",
    "            # Claim amount based on policy coverage and claim type\n",
    "            severity_multipliers = {\n",
    "                'collision': 0.15, 'theft': 0.25, 'fire': 0.4, 'flood': 0.3,\n",
    "                'medical': 0.1, 'emergency': 0.2, 'liability': 0.2,\n",
    "                'death_benefit': 1.0, 'other': 0.15\n",
    "            }\n",
    "            \n",
    "            severity = severity_multipliers.get(claim_type, 0.15)\n",
    "            base_amount = policy_row['coverage_amount'] * severity\n",
    "            \n",
    "            # Add randomness\n",
    "            claim_amount_requested = base_amount * np.random.uniform(0.5, 1.5)\n",
    "            claim_amount_requested = round(max(100, claim_amount_requested), 2)\n",
    "            \n",
    "            # Claim complexity score (1-5 scale)\n",
    "            complexity_factors = {\n",
    "                'collision': 2.5, 'theft': 3.0, 'fire': 4.0, 'flood': 4.5,\n",
    "                'medical': 2.0, 'emergency': 3.5, 'liability': 4.5,\n",
    "                'death_benefit': 5.0, 'other': 2.0\n",
    "            }\n",
    "            base_complexity = complexity_factors.get(claim_type, 2.0)\n",
    "            claim_complexity_score = round(np.random.normal(base_complexity, 0.5), 2)\n",
    "            claim_complexity_score = max(1.0, min(5.0, claim_complexity_score))\n",
    "            \n",
    "            # Fraud risk score (higher for certain patterns)\n",
    "            fraud_risk_base = 0.1\n",
    "            \n",
    "            # Risk factors\n",
    "            if claim_amount_requested > policy_row['coverage_amount'] * 0.8:\n",
    "                fraud_risk_base += 0.3  # High claim amount\n",
    "            if customer_data['prior_claims_count'] > 3:\n",
    "                fraud_risk_base += 0.2  # Frequent claimant\n",
    "            if policy_row['risk_tier'] == 'high':\n",
    "                fraud_risk_base += 0.2  # High risk customer\n",
    "            if claim_type in ['theft', 'fire']:\n",
    "                fraud_risk_base += 0.1  # Claim types with higher fraud rates\n",
    "            \n",
    "            fraud_risk_score = round(min(1.0, fraud_risk_base + np.random.uniform(-0.1, 0.1)), 2)\n",
    "            \n",
    "            # Claim status and settlement logic\n",
    "            days_since_filed = (datetime.now().date() - claim_date_filed).days\n",
    "            \n",
    "            if days_since_filed < 7:\n",
    "                claim_status = 'submitted'\n",
    "                settlement_amount = None\n",
    "                days_to_settlement = None\n",
    "            elif days_since_filed < 30:\n",
    "                claim_status = np.random.choice(['under_review', 'submitted'], p=[0.8, 0.2])\n",
    "                settlement_amount = None\n",
    "                days_to_settlement = None\n",
    "            else:\n",
    "                # Approval probability based on fraud risk and other factors\n",
    "                approval_prob = max(0.1, 0.9 - (fraud_risk_score * 0.6))\n",
    "                \n",
    "                if np.random.random() < approval_prob:\n",
    "                    claim_status = np.random.choice(['approved', 'settled'], p=[0.3, 0.7])\n",
    "                    # Settlement typically less than requested\n",
    "                    settlement_amount = claim_amount_requested * np.random.uniform(0.7, 1.0)\n",
    "                    settlement_amount = round(max(0, settlement_amount), 2)\n",
    "                else:\n",
    "                    claim_status = 'denied'\n",
    "                    settlement_amount = 0\n",
    "                \n",
    "                # Days to settlement based on complexity\n",
    "                base_days = 30 + (claim_complexity_score - 1) * 15\n",
    "                days_to_settlement = int(np.random.normal(base_days, 10))\n",
    "                days_to_settlement = max(7, min(365, days_to_settlement))\n",
    "            \n",
    "            adjuster_id = f\"ADJ_{random.randint(1, 25):03d}\"\n",
    "            \n",
    "            description = f\"{claim_type.replace('_', ' ').title()} claim for policy {policy_row['policy_id']}\"\n",
    "            \n",
    "            claims.append({\n",
    "                'claim_id': claim_id,\n",
    "                'policy_id': policy_row['policy_id'],\n",
    "                'claim_type': claim_type,\n",
    "                'claim_amount_requested': claim_amount_requested,\n",
    "                'claim_date_filed': claim_date_filed,\n",
    "                'claim_status': claim_status,\n",
    "                'settlement_amount': settlement_amount,\n",
    "                'days_to_settlement': days_to_settlement,\n",
    "                'adjuster_id': adjuster_id,\n",
    "                'claim_complexity_score': claim_complexity_score,\n",
    "                'fraud_risk_score': fraud_risk_score,\n",
    "                'incident_date': incident_date,\n",
    "                'description': description,\n",
    "                'created_date': claim_date_filed\n",
    "            })\n",
    "            \n",
    "            claim_counter += 1\n",
    "            \n",
    "        if claim_counter > NUM_CLAIMS:\n",
    "            break\n",
    "    \n",
    "    return pd.DataFrame(claims)"
   ]
  },
  {
   "cell_type": "markdown",
   "metadata": {
    "application/vnd.databricks.v1+cell": {
     "cellMetadata": {
      "byteLimit": 2048000,
      "rowLimit": 10000
     },
     "inputWidgets": {},
     "nuid": "1a4280af-8812-4e32-9c67-fb67bb7c62c4",
     "showTitle": false,
     "tableResultSettingsMap": {},
     "title": ""
    }
   },
   "source": [
    "## Execute Data Generation"
   ]
  },
  {
   "cell_type": "code",
   "execution_count": 0,
   "metadata": {
    "application/vnd.databricks.v1+cell": {
     "cellMetadata": {
      "byteLimit": 2048000,
      "rowLimit": 10000
     },
     "inputWidgets": {},
     "nuid": "3213875e-94de-4294-803b-7cf57b5b3a0e",
     "showTitle": false,
     "tableResultSettingsMap": {},
     "title": ""
    }
   },
   "outputs": [
    {
     "output_type": "stream",
     "name": "stdout",
     "output_type": "stream",
     "text": [
      "Starting data generation for Claims Underwriting Analytics...\nTarget: 10,000 customers, 25,000 policies, 50,000 claims\nGenerating customers data...\n✅ Generated 10,000 customers\nGenerating policies data...\n✅ Generated 20,109 policies\nGenerating claims data...\n✅ Generated 27,065 claims\n"
     ]
    }
   ],
   "source": [
    "# Main execution\n",
    "print(\"Starting data generation for Claims Underwriting Analytics...\")\n",
    "print(f\"Target: {NUM_CUSTOMERS:,} customers, {NUM_POLICIES:,} policies, {NUM_CLAIMS:,} claims\")\n",
    "\n",
    "# Generate datasets\n",
    "customers_df = generate_customers()\n",
    "print(f\"✅ Generated {len(customers_df):,} customers\")\n",
    "\n",
    "policies_df = generate_policies(customers_df)\n",
    "print(f\"✅ Generated {len(policies_df):,} policies\")\n",
    "\n",
    "claims_df = generate_claims(policies_df, customers_df)\n",
    "print(f\"✅ Generated {len(claims_df):,} claims\")"
   ]
  },
  {
   "cell_type": "markdown",
   "metadata": {
    "application/vnd.databricks.v1+cell": {
     "cellMetadata": {
      "byteLimit": 2048000,
      "rowLimit": 10000
     },
     "inputWidgets": {},
     "nuid": "91cc218a-6bb8-4dbb-bc2f-839d4039e855",
     "showTitle": false,
     "tableResultSettingsMap": {},
     "title": ""
    }
   },
   "source": [
    "## Data Quality Summary"
   ]
  },
  {
   "cell_type": "code",
   "execution_count": 0,
   "metadata": {
    "application/vnd.databricks.v1+cell": {
     "cellMetadata": {
      "byteLimit": 2048000,
      "rowLimit": 10000
     },
     "inputWidgets": {},
     "nuid": "cc5bb6c1-f847-432e-937d-1c7ae778357a",
     "showTitle": false,
     "tableResultSettingsMap": {},
     "title": ""
    }
   },
   "outputs": [
    {
     "output_type": "stream",
     "name": "stdout",
     "output_type": "stream",
     "text": [
      "\uD83D\uDCCA Data Quality Summary:\nCustomers with policies: 10,000\nPolicies with claims: 20,109\nAverage policies per customer: 2.01\nClaims rate: 134.59%\n\n\uD83D\uDD0D Sample Data Preview:\n\nCustomers Sample:\n"
     ]
    },
    {
     "output_type": "display_data",
     "data": {
      "text/html": [
       "<style scoped>\n",
       "  .table-result-container {\n",
       "    max-height: 300px;\n",
       "    overflow: auto;\n",
       "  }\n",
       "  table, th, td {\n",
       "    border: 1px solid black;\n",
       "    border-collapse: collapse;\n",
       "  }\n",
       "  th, td {\n",
       "    padding: 5px;\n",
       "  }\n",
       "  th {\n",
       "    text-align: left;\n",
       "  }\n",
       "</style><div class='table-result-container'><table class='table-result'><thead style='background-color: white'><tr><th>customer_id</th><th>customer_type</th><th>age</th><th>credit_score</th><th>years_with_company</th><th>annual_income</th><th>employment_status</th><th>marital_status</th><th>geographic_risk_zone</th><th>prior_claims_count</th><th>customer_loyalty_tier</th><th>created_date</th></tr></thead><tbody><tr><td>CUST_000001</td><td>individual</td><td>28.0</td><td>699</td><td>4.3</td><td>42593.25</td><td>employed</td><td>single</td><td>low</td><td>2</td><td>gold</td><td>2021-11-24T16:05:03.441Z</td></tr><tr><td>CUST_000002</td><td>individual</td><td>60.0</td><td>659</td><td>1.2</td><td>27290.94</td><td>employed</td><td>married</td><td>medium</td><td>0</td><td>silver</td><td>2015-10-22T00:13:41.119Z</td></tr><tr><td>CUST_000003</td><td>individual</td><td>34.0</td><td>850</td><td>0.2</td><td>12458.89</td><td>self_employed</td><td>single</td><td>medium</td><td>0</td><td>bronze</td><td>2018-04-14T16:14:30.927Z</td></tr></tbody></table></div>"
      ]
     },
     "metadata": {
      "application/vnd.databricks.v1+output": {
       "addedWidgets": {},
       "aggData": [],
       "aggError": "",
       "aggOverflow": false,
       "aggSchema": [],
       "aggSeriesLimitReached": false,
       "aggType": "",
       "arguments": {},
       "columnCustomDisplayInfos": {},
       "data": [
        [
         "CUST_000001",
         "individual",
         28.0,
         699,
         4.3,
         42593.25,
         "employed",
         "single",
         "low",
         2,
         "gold",
         "2021-11-24T16:05:03.441Z"
        ],
        [
         "CUST_000002",
         "individual",
         60.0,
         659,
         1.2,
         27290.94,
         "employed",
         "married",
         "medium",
         0,
         "silver",
         "2015-10-22T00:13:41.119Z"
        ],
        [
         "CUST_000003",
         "individual",
         34.0,
         850,
         0.2,
         12458.89,
         "self_employed",
         "single",
         "medium",
         0,
         "bronze",
         "2018-04-14T16:14:30.927Z"
        ]
       ],
       "datasetInfos": [],
       "dbfsResultPath": null,
       "isJsonSchema": true,
       "metadata": {},
       "overflow": false,
       "plotOptions": {
        "customPlotOptions": {},
        "displayType": "table",
        "pivotAggregation": null,
        "pivotColumns": null,
        "xColumns": null,
        "yColumns": null
       },
       "removedWidgets": [],
       "schema": [
        {
         "metadata": "{}",
         "name": "customer_id",
         "type": "\"string\""
        },
        {
         "metadata": "{}",
         "name": "customer_type",
         "type": "\"string\""
        },
        {
         "metadata": "{}",
         "name": "age",
         "type": "\"double\""
        },
        {
         "metadata": "{}",
         "name": "credit_score",
         "type": "\"long\""
        },
        {
         "metadata": "{}",
         "name": "years_with_company",
         "type": "\"double\""
        },
        {
         "metadata": "{}",
         "name": "annual_income",
         "type": "\"double\""
        },
        {
         "metadata": "{}",
         "name": "employment_status",
         "type": "\"string\""
        },
        {
         "metadata": "{}",
         "name": "marital_status",
         "type": "\"string\""
        },
        {
         "metadata": "{}",
         "name": "geographic_risk_zone",
         "type": "\"string\""
        },
        {
         "metadata": "{}",
         "name": "prior_claims_count",
         "type": "\"long\""
        },
        {
         "metadata": "{}",
         "name": "customer_loyalty_tier",
         "type": "\"string\""
        },
        {
         "metadata": "{}",
         "name": "created_date",
         "type": "\"timestamp\""
        }
       ],
       "type": "table"
      }
     },
     "output_type": "display_data"
    },
    {
     "output_type": "stream",
     "name": "stdout",
     "output_type": "stream",
     "text": [
      "\nPolicies Sample:\n"
     ]
    },
    {
     "output_type": "display_data",
     "data": {
      "text/html": [
       "<style scoped>\n",
       "  .table-result-container {\n",
       "    max-height: 300px;\n",
       "    overflow: auto;\n",
       "  }\n",
       "  table, th, td {\n",
       "    border: 1px solid black;\n",
       "    border-collapse: collapse;\n",
       "  }\n",
       "  th, td {\n",
       "    padding: 5px;\n",
       "  }\n",
       "  th {\n",
       "    text-align: left;\n",
       "  }\n",
       "</style><div class='table-result-container'><table class='table-result'><thead style='background-color: white'><tr><th>policy_id</th><th>customer_id</th><th>policy_type</th><th>coverage_amount</th><th>deductible</th><th>premium_amount</th><th>policy_start_date</th><th>policy_end_date</th><th>policy_status</th><th>risk_tier</th><th>agent_id</th><th>created_date</th></tr></thead><tbody><tr><td>POL_0000001</td><td>CUST_000001</td><td>home</td><td>406201.97</td><td>5000</td><td>1137.37</td><td>2025-05-13</td><td>2026-05-13</td><td>active</td><td>low</td><td>AGT_041</td><td>2025-05-13</td></tr><tr><td>POL_0000002</td><td>CUST_000002</td><td>life</td><td>69775.86</td><td>1000</td><td>244.22</td><td>2024-08-15</td><td>2025-08-15</td><td>active</td><td>low</td><td>AGT_008</td><td>2024-08-15</td></tr><tr><td>POL_0000003</td><td>CUST_000002</td><td>auto</td><td>48575.96</td><td>2500</td><td>170.02</td><td>2022-08-29</td><td>2023-08-29</td><td>expired</td><td>low</td><td>AGT_002</td><td>2022-08-29</td></tr></tbody></table></div>"
      ]
     },
     "metadata": {
      "application/vnd.databricks.v1+output": {
       "addedWidgets": {},
       "aggData": [],
       "aggError": "",
       "aggOverflow": false,
       "aggSchema": [],
       "aggSeriesLimitReached": false,
       "aggType": "",
       "arguments": {},
       "columnCustomDisplayInfos": {},
       "data": [
        [
         "POL_0000001",
         "CUST_000001",
         "home",
         406201.97,
         5000,
         1137.37,
         "2025-05-13",
         "2026-05-13",
         "active",
         "low",
         "AGT_041",
         "2025-05-13"
        ],
        [
         "POL_0000002",
         "CUST_000002",
         "life",
         69775.86,
         1000,
         244.22,
         "2024-08-15",
         "2025-08-15",
         "active",
         "low",
         "AGT_008",
         "2024-08-15"
        ],
        [
         "POL_0000003",
         "CUST_000002",
         "auto",
         48575.96,
         2500,
         170.02,
         "2022-08-29",
         "2023-08-29",
         "expired",
         "low",
         "AGT_002",
         "2022-08-29"
        ]
       ],
       "datasetInfos": [],
       "dbfsResultPath": null,
       "isJsonSchema": true,
       "metadata": {},
       "overflow": false,
       "plotOptions": {
        "customPlotOptions": {},
        "displayType": "table",
        "pivotAggregation": null,
        "pivotColumns": null,
        "xColumns": null,
        "yColumns": null
       },
       "removedWidgets": [],
       "schema": [
        {
         "metadata": "{}",
         "name": "policy_id",
         "type": "\"string\""
        },
        {
         "metadata": "{}",
         "name": "customer_id",
         "type": "\"string\""
        },
        {
         "metadata": "{}",
         "name": "policy_type",
         "type": "\"string\""
        },
        {
         "metadata": "{}",
         "name": "coverage_amount",
         "type": "\"double\""
        },
        {
         "metadata": "{}",
         "name": "deductible",
         "type": "\"long\""
        },
        {
         "metadata": "{}",
         "name": "premium_amount",
         "type": "\"double\""
        },
        {
         "metadata": "{}",
         "name": "policy_start_date",
         "type": "\"date\""
        },
        {
         "metadata": "{}",
         "name": "policy_end_date",
         "type": "\"date\""
        },
        {
         "metadata": "{}",
         "name": "policy_status",
         "type": "\"string\""
        },
        {
         "metadata": "{}",
         "name": "risk_tier",
         "type": "\"string\""
        },
        {
         "metadata": "{}",
         "name": "agent_id",
         "type": "\"string\""
        },
        {
         "metadata": "{}",
         "name": "created_date",
         "type": "\"date\""
        }
       ],
       "type": "table"
      }
     },
     "output_type": "display_data"
    },
    {
     "output_type": "stream",
     "name": "stdout",
     "output_type": "stream",
     "text": [
      "\nClaims Sample:\n"
     ]
    },
    {
     "output_type": "display_data",
     "data": {
      "text/html": [
       "<style scoped>\n",
       "  .table-result-container {\n",
       "    max-height: 300px;\n",
       "    overflow: auto;\n",
       "  }\n",
       "  table, th, td {\n",
       "    border: 1px solid black;\n",
       "    border-collapse: collapse;\n",
       "  }\n",
       "  th, td {\n",
       "    padding: 5px;\n",
       "  }\n",
       "  th {\n",
       "    text-align: left;\n",
       "  }\n",
       "</style><div class='table-result-container'><table class='table-result'><thead style='background-color: white'><tr><th>claim_id</th><th>policy_id</th><th>claim_type</th><th>claim_amount_requested</th><th>claim_date_filed</th><th>claim_status</th><th>settlement_amount</th><th>days_to_settlement</th><th>adjuster_id</th><th>claim_complexity_score</th><th>fraud_risk_score</th><th>incident_date</th><th>description</th><th>created_date</th></tr></thead><tbody><tr><td>CLM_00000001</td><td>POL_0011634</td><td>death_benefit</td><td>76470.29</td><td>2022-09-12</td><td>settled</td><td>54456.5</td><td>97.0</td><td>ADJ_014</td><td>4.92</td><td>0.11</td><td>2022-09-12</td><td>Death Benefit claim for policy POL_0011634</td><td>2022-09-12</td></tr><tr><td>CLM_00000002</td><td>POL_0001338</td><td>medical</td><td>29050.15</td><td>2025-07-19</td><td>submitted</td><td>null</td><td>null</td><td>ADJ_022</td><td>2.08</td><td>0.14</td><td>2025-06-24</td><td>Medical claim for policy POL_0001338</td><td>2025-07-19</td></tr><tr><td>CLM_00000003</td><td>POL_0008643</td><td>liability</td><td>15473.58</td><td>2022-04-19</td><td>settled</td><td>13312.97</td><td>87.0</td><td>ADJ_006</td><td>4.68</td><td>0.15</td><td>2022-03-22</td><td>Liability claim for policy POL_0008643</td><td>2022-04-19</td></tr></tbody></table></div>"
      ]
     },
     "metadata": {
      "application/vnd.databricks.v1+output": {
       "addedWidgets": {},
       "aggData": [],
       "aggError": "",
       "aggOverflow": false,
       "aggSchema": [],
       "aggSeriesLimitReached": false,
       "aggType": "",
       "arguments": {},
       "columnCustomDisplayInfos": {},
       "data": [
        [
         "CLM_00000001",
         "POL_0011634",
         "death_benefit",
         76470.29,
         "2022-09-12",
         "settled",
         54456.5,
         97.0,
         "ADJ_014",
         4.92,
         0.11,
         "2022-09-12",
         "Death Benefit claim for policy POL_0011634",
         "2022-09-12"
        ],
        [
         "CLM_00000002",
         "POL_0001338",
         "medical",
         29050.15,
         "2025-07-19",
         "submitted",
         null,
         null,
         "ADJ_022",
         2.08,
         0.14,
         "2025-06-24",
         "Medical claim for policy POL_0001338",
         "2025-07-19"
        ],
        [
         "CLM_00000003",
         "POL_0008643",
         "liability",
         15473.58,
         "2022-04-19",
         "settled",
         13312.97,
         87.0,
         "ADJ_006",
         4.68,
         0.15,
         "2022-03-22",
         "Liability claim for policy POL_0008643",
         "2022-04-19"
        ]
       ],
       "datasetInfos": [],
       "dbfsResultPath": null,
       "isJsonSchema": true,
       "metadata": {},
       "overflow": false,
       "plotOptions": {
        "customPlotOptions": {},
        "displayType": "table",
        "pivotAggregation": null,
        "pivotColumns": null,
        "xColumns": null,
        "yColumns": null
       },
       "removedWidgets": [],
       "schema": [
        {
         "metadata": "{}",
         "name": "claim_id",
         "type": "\"string\""
        },
        {
         "metadata": "{}",
         "name": "policy_id",
         "type": "\"string\""
        },
        {
         "metadata": "{}",
         "name": "claim_type",
         "type": "\"string\""
        },
        {
         "metadata": "{}",
         "name": "claim_amount_requested",
         "type": "\"double\""
        },
        {
         "metadata": "{}",
         "name": "claim_date_filed",
         "type": "\"date\""
        },
        {
         "metadata": "{}",
         "name": "claim_status",
         "type": "\"string\""
        },
        {
         "metadata": "{}",
         "name": "settlement_amount",
         "type": "\"double\""
        },
        {
         "metadata": "{}",
         "name": "days_to_settlement",
         "type": "\"double\""
        },
        {
         "metadata": "{}",
         "name": "adjuster_id",
         "type": "\"string\""
        },
        {
         "metadata": "{}",
         "name": "claim_complexity_score",
         "type": "\"double\""
        },
        {
         "metadata": "{}",
         "name": "fraud_risk_score",
         "type": "\"double\""
        },
        {
         "metadata": "{}",
         "name": "incident_date",
         "type": "\"date\""
        },
        {
         "metadata": "{}",
         "name": "description",
         "type": "\"string\""
        },
        {
         "metadata": "{}",
         "name": "created_date",
         "type": "\"date\""
        }
       ],
       "type": "table"
      }
     },
     "output_type": "display_data"
    }
   ],
   "source": [
    "# Data quality checks\n",
    "print(\"\uD83D\uDCCA Data Quality Summary:\")\n",
    "print(f\"Customers with policies: {customers_df['customer_id'].isin(policies_df['customer_id']).sum():,}\")\n",
    "print(f\"Policies with claims: {policies_df['policy_id'].isin(claims_df['policy_id']).sum():,}\")\n",
    "print(f\"Average policies per customer: {len(policies_df) / len(customers_df):.2f}\")\n",
    "print(f\"Claims rate: {len(claims_df) / len(policies_df):.2%}\")\n",
    "\n",
    "# Display sample data\n",
    "print(\"\\n\uD83D\uDD0D Sample Data Preview:\")\n",
    "print(\"\\nCustomers Sample:\")\n",
    "display(customers_df.head(3))\n",
    "print(\"\\nPolicies Sample:\")\n",
    "display(policies_df.head(3))\n",
    "print(\"\\nClaims Sample:\")\n",
    "display(claims_df.head(3))"
   ]
  },
  {
   "cell_type": "markdown",
   "metadata": {
    "application/vnd.databricks.v1+cell": {
     "cellMetadata": {
      "byteLimit": 2048000,
      "rowLimit": 10000
     },
     "inputWidgets": {},
     "nuid": "d8f06b38-4ba1-44a4-b1af-526fa482bcd7",
     "showTitle": false,
     "tableResultSettingsMap": {},
     "title": ""
    }
   },
   "source": [
    "## Save to Unity Catalog\n",
    "\n",
    "Ready to save these DataFrames to Delta tables in Unity Catalog!"
   ]
  },
  {
   "cell_type": "code",
   "execution_count": 0,
   "metadata": {
    "application/vnd.databricks.v1+cell": {
     "cellMetadata": {
      "byteLimit": 2048000,
      "rowLimit": 10000
     },
     "inputWidgets": {},
     "nuid": "f62711d9-1a14-4455-a8b2-e70f4fcc0691",
     "showTitle": false,
     "tableResultSettingsMap": {},
     "title": ""
    }
   },
   "outputs": [
    {
     "output_type": "stream",
     "name": "stdout",
     "output_type": "stream",
     "text": [
      "\uD83C\uDF89 Data generation complete! DataFrames are ready for Unity Catalog.\n\nNext steps:\n1. Configure Unity Catalog catalog and schema\n2. Save DataFrames as Delta tables\n3. Set up Delta Live Tables pipeline\n4. Build ML model for claims prediction\n"
     ]
    }
   ],
   "source": [
    "print(\"\uD83C\uDF89 Data generation complete! DataFrames are ready for Unity Catalog.\")\n",
    "print(\"\\nNext steps:\")\n",
    "print(\"1. Configure Unity Catalog catalog and schema\")\n",
    "print(\"2. Save DataFrames as Delta tables\")\n",
    "print(\"3. Set up Delta Live Tables pipeline\")\n",
    "print(\"4. Build ML model for claims prediction\")"
   ]
  }
 ],
 "metadata": {
  "application/vnd.databricks.v1+notebook": {
   "computePreferences": null,
   "dashboards": [],
   "environmentMetadata": null,
   "inputWidgetPreferences": null,
   "language": "python",
   "notebookMetadata": {
    "pythonIndentUnit": 2
   },
   "notebookName": "claims_data_generator",
   "widgets": {}
  },
  "language_info": {
   "name": "python"
  }
 },
 "nbformat": 4,
 "nbformat_minor": 0
}